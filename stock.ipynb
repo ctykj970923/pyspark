{
 "cells": [
  {
   "cell_type": "code",
   "execution_count": null,
   "id": "14801def",
   "metadata": {},
   "outputs": [],
   "source": [
    "import os\n",
    "import findspark"
   ]
  },
  {
   "cell_type": "code",
   "execution_count": null,
   "id": "e190cb83",
   "metadata": {},
   "outputs": [],
   "source": [
    "findspark.init()"
   ]
  },
  {
   "cell_type": "code",
   "execution_count": null,
   "id": "8578dda2",
   "metadata": {},
   "outputs": [],
   "source": [
    "from pyspark.sql import SparkSession\n",
    "from pyspark.sql import functions as F\n",
    "from pyspark.sql.types import *\n",
    "from pyspark.sql.functions import udf, format_number"
   ]
  },
  {
   "cell_type": "code",
   "execution_count": null,
   "id": "45b039f3",
   "metadata": {},
   "outputs": [],
   "source": [
    "spark = SparkSession.builder \\\n",
    "    .appName(\"UsStock\") \\\n",
    "    .getOrCreate()"
   ]
  },
  {
   "cell_type": "code",
   "execution_count": null,
   "id": "a5cc494e",
   "metadata": {},
   "outputs": [],
   "source": [
    "import os\n",
    "root_path = os.getcwd()\n",
    "# print(root_path)\n",
    "us_stock_overview_csv = 'history\\\\20250525154117.csv'\n",
    "us_stock_overview_csv_path = os.path.join(root_path, us_stock_overview_csv)\n",
    "# print(us_stock_overview_csv_path)"
   ]
  },
  {
   "cell_type": "code",
   "execution_count": null,
   "id": "52b9ea21",
   "metadata": {},
   "outputs": [],
   "source": [
    "#join chinese/english industry\n",
    "chi_stock_overview_csv = 'history\\\\20250525163420.csv'\n",
    "chi_stock_overview_csv_path = os.path.join(root_path, chi_stock_overview_csv)\n",
    "schema = StructType([\n",
    "    StructField(\"No\", IntegerType(), True),\n",
    "    StructField(\"Symbol\", StringType(), True),\n",
    "    StructField(\"Chi_Industry\", StringType(), True)\n",
    "])\n",
    "chinese_df = spark.read.csv(chi_stock_overview_csv_path, header=True, schema=schema)\n",
    "chinese_df.printSchema()"
   ]
  },
  {
   "cell_type": "code",
   "execution_count": null,
   "id": "d3735af7",
   "metadata": {},
   "outputs": [],
   "source": [
    "original_df = spark.read.csv(us_stock_overview_csv_path, header=True, inferSchema=True)\n",
    "original_df = original_df.join(chinese_df.select(\"Symbol\",\"Chi_industry\"), on='Symbol',how ='inner')"
   ]
  },
  {
   "cell_type": "code",
   "execution_count": null,
   "id": "7e412772",
   "metadata": {},
   "outputs": [],
   "source": [
    "original_df.printSchema()"
   ]
  },
  {
   "cell_type": "code",
   "execution_count": null,
   "id": "5b8ffa16",
   "metadata": {},
   "outputs": [],
   "source": [
    "columns = [\"Symbol\",\"% Chg\", \"Market Cap\", \"Industry\", \"Chi_Industry\"]\n",
    "filtered_df = original_df.filter((F.col(\"Market Cap\") > 100000000) & (F.trim(F.col(\"Industry\")) != '-'))\n",
    "filtered_df = filtered_df.select(columns)\n",
    "filtered_df.printSchema()\n",
    "# filtered_df.show(2)"
   ]
  },
  {
   "cell_type": "code",
   "execution_count": null,
   "id": "277614de",
   "metadata": {},
   "outputs": [],
   "source": [
    "def percentage_to_float(percentage_str):\n",
    "    return (float(percentage_str.strip('%')) / 100)\n",
    "\n",
    "percentage_udf = udf(percentage_to_float, FloatType())\n",
    "filtered_df_transformed = filtered_df.withColumn(\"% Chg\", percentage_udf(filtered_df[\"% Chg\"]))\n",
    "\n",
    "filtered_df_transformed.printSchema()\n",
    "# filtered_df_transformed.show()"
   ]
  },
  {
   "cell_type": "code",
   "execution_count": null,
   "id": "a2b947f7",
   "metadata": {},
   "outputs": [],
   "source": [
    "avg_industry_df = filtered_df_transformed.select(\"Industry\",\"Chi_Industry\",\"% Chg\",\"Symbol\")\\\n",
    ".groupBy(\"Industry\",\"Chi_Industry\")\\\n",
    ".agg(F.round(F.avg(\"% Chg\"),4).alias(\"Total Industry Change Rate\"), F.count(\"Industry\").alias(\"Total Stock\"), F.max(\"% Chg\").alias(\"Best Contribution\"))\\\n",
    ".orderBy(F.col(\"Total Industry Change Rate\").desc())\n",
    " \n",
    "avg_industry_df.show(avg_industry_df.count())"
   ]
  },
  {
   "cell_type": "code",
   "execution_count": null,
   "id": "6524122a",
   "metadata": {},
   "outputs": [],
   "source": [
    "filtered_df_with_column_transformed = filtered_df_transformed.select(\"Symbol\",\"Industry\",\"% Chg\")\n",
    "df_as1 = avg_industry_df.alias(\"df_as1\")\n",
    "df_as2 = filtered_df_with_column_transformed.alias(\"df_as2\")\n",
    "avg_industry_with_best_contribution_df = df_as1.join(df_as2, (F.col(\"df_as1.Best Contribution\") == F.col(\"df_as2.% Chg\"))\\\n",
    "                                                     & (F.col(\"df_as1.Industry\") == F.col(\"df_as2.Industry\")))\\\n",
    "                                                     .select(df_as1[\"*\"],\"df_as2.Symbol\")\\\n",
    "                                                     .orderBy(F.col(\"Total Industry Change Rate\").desc())\n",
    "\n",
    "avg_industry_with_best_contribution_df = avg_industry_with_best_contribution_df.withColumnRenamed(\"Symbol\", \"Best Stock\")\n",
    "avg_industry_with_best_contribution_df.show(avg_industry_with_best_contribution_df.count())"
   ]
  }
 ],
 "metadata": {
  "kernelspec": {
   "display_name": "Python 3 (ipykernel)",
   "language": "python",
   "name": "python3"
  },
  "language_info": {
   "codemirror_mode": {
    "name": "ipython",
    "version": 3
   },
   "file_extension": ".py",
   "mimetype": "text/x-python",
   "name": "python",
   "nbconvert_exporter": "python",
   "pygments_lexer": "ipython3",
   "version": "3.8.18"
  }
 },
 "nbformat": 4,
 "nbformat_minor": 5
}
