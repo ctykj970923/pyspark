{
 "cells": [
  {
   "cell_type": "code",
   "execution_count": 1,
   "id": "c734672d",
   "metadata": {},
   "outputs": [],
   "source": [
    "import os\n",
    "import findspark"
   ]
  },
  {
   "cell_type": "code",
   "execution_count": 2,
   "id": "85de00c4",
   "metadata": {},
   "outputs": [],
   "source": [
    "findspark.init()"
   ]
  },
  {
   "cell_type": "code",
   "execution_count": 3,
   "id": "77dece11",
   "metadata": {},
   "outputs": [],
   "source": [
    "from pyspark.sql import SparkSession\n",
    "from pyspark.sql import functions as F\n",
    "from pyspark.sql.types import *\n",
    "from pyspark.sql.functions import udf, format_number"
   ]
  },
  {
   "cell_type": "code",
   "execution_count": 4,
   "id": "a0f6fdeb",
   "metadata": {},
   "outputs": [],
   "source": [
    "spark = SparkSession.builder \\\n",
    "    .appName(\"UsStock\") \\\n",
    "    .getOrCreate()"
   ]
  },
  {
   "cell_type": "code",
   "execution_count": 5,
   "id": "9cc3593a",
   "metadata": {},
   "outputs": [],
   "source": [
    "import os\n",
    "root_path = os.getcwd()\n",
    "# print(root_path)\n",
    "us_stock_overview_csv = 'history\\\\20250525154117.csv'\n",
    "us_stock_overview_csv_path = os.path.join(root_path, us_stock_overview_csv)\n",
    "# print(us_stock_overview_csv_path)"
   ]
  },
  {
   "cell_type": "code",
   "execution_count": 6,
   "id": "43517038",
   "metadata": {},
   "outputs": [
    {
     "name": "stdout",
     "output_type": "stream",
     "text": [
      "root\n",
      " |-- No: integer (nullable = true)\n",
      " |-- Symbol: string (nullable = true)\n",
      " |-- Chi_Industry: string (nullable = true)\n",
      "\n"
     ]
    }
   ],
   "source": [
    "#join chinese/english industry\n",
    "chi_stock_overview_csv = 'history\\\\20250525163420.csv'\n",
    "chi_stock_overview_csv_path = os.path.join(root_path, chi_stock_overview_csv)\n",
    "schema = StructType([\n",
    "    StructField(\"No\", IntegerType(), True),\n",
    "    StructField(\"Symbol\", StringType(), True),\n",
    "    StructField(\"Chi_Industry\", StringType(), True)\n",
    "])\n",
    "chinese_df = spark.read.csv(chi_stock_overview_csv_path, header=True, schema=schema)\n",
    "chinese_df.printSchema()\n",
    "chinese_df.createOrReplaceTempView(\"CHINESE_STOCK_DATA\")"
   ]
  },
  {
   "cell_type": "code",
   "execution_count": 7,
   "id": "4d2dda54",
   "metadata": {},
   "outputs": [
    {
     "data": {
      "text/plain": [
       "<pyspark.sql.udf.UserDefinedFunction at 0x23630084e50>"
      ]
     },
     "execution_count": 7,
     "metadata": {},
     "output_type": "execute_result"
    }
   ],
   "source": [
    "def percentage_to_float(percentage):\n",
    "     return (float(percentage.strip('%')) / 100)\n",
    "\n",
    "percentage_to_float_udf = udf(percentage_to_float, FloatType())\n",
    "spark.udf.register(\"percentage_to_float_udf\", percentage_to_float_udf)"
   ]
  },
  {
   "cell_type": "code",
   "execution_count": 8,
   "id": "fed2e69d",
   "metadata": {},
   "outputs": [
    {
     "name": "stdout",
     "output_type": "stream",
     "text": [
      "+------+------+-----------------+--------------------+--------------------+\n",
      "|Symbol|   Chg|       Market Cap|            Industry|        Chi_Industry|\n",
      "+------+------+-----------------+--------------------+--------------------+\n",
      "|  RAPT|0.4334|   1.6271508378E8|       Biotechnology|            生物技術|\n",
      "|  LTBR|0.4259|     3.42580032E8|Electrical Equipm...|      電氣設備及零件|\n",
      "|  DOUG|0.3551|    2.573397302E8|Real Estate Services|          房地產服務|\n",
      "|  MRUS|0.3255|  3.81643658064E9|       Biotechnology|            生物技術|\n",
      "|   NNE|0.3007|  1.34479564978E9|Specialty Industr...|        專用工業機械|\n",
      "|   RGC|0.2684|     7.28720496E9|Drug Manufacturer...|專業與通用藥品製造商|\n",
      "|   UEC|  0.25|   2.7653188974E9|             Uranium|                  鈾|\n",
      "|  BSGM|0.2424|   1.4411550912E8|     Medical Devices|            醫療設備|\n",
      "|  ALTS|0.2409|    1.555210206E8|Software - Applic...|            應用軟件|\n",
      "|    EU|0.2313|   3.6693472357E8|             Uranium|                  鈾|\n",
      "|  OKLO|0.2304|  6.80295807513E9|Utilities - Regul...|          受監管電力|\n",
      "|   URG|0.2212|   3.1757516583E8|             Uranium|                  鈾|\n",
      "|  NEOV| 0.216|   1.1909580677E8|Electrical Equipm...|      電氣設備及零件|\n",
      "|   LEU|0.2159|  1.93015186514E9|             Uranium|                  鈾|\n",
      "| GTN.A| 0.214|    9.873961061E8|        Broadcasting|                廣播|\n",
      "|  AGAE|0.2124|   1.0320807276E8|       Entertainment|                娛樂|\n",
      "|     X|0.2124|1.177605884728E10|               Steel|                  鋼|\n",
      "|  UUUU|   0.2|   1.1700146142E9|             Uranium|                  鈾|\n",
      "|  FCEL|0.1965|   1.2436943844E8|Electrical Equipm...|      電氣設備及零件|\n",
      "|  LUCD|0.1955|   1.7202048297E8|     Medical Devices|            醫療設備|\n",
      "+------+------+-----------------+--------------------+--------------------+\n",
      "only showing top 20 rows\n",
      "\n"
     ]
    }
   ],
   "source": [
    "original_df = spark.read.csv(us_stock_overview_csv_path, header=True, inferSchema=True)\n",
    "original_df.createOrReplaceTempView(\"ORIGINAL_STOCK_DATA\")\n",
    "filtered_df_transformed = spark.sql(\"\"\"SELECT T1.Symbol, percentage_to_float_udf(T1.`% Chg`) AS Chg, T1.`Market Cap`, T1.Industry, T2.Chi_Industry FROM ORIGINAL_STOCK_DATA T1 INNER JOIN CHINESE_STOCK_DATA T2 ON T1.Symbol = T2.Symbol WHERE T1.`Market Cap` > 100000000 and T1.Industry != '-'\"\"\")\n",
    "filtered_df_transformed.show()"
   ]
  },
  {
   "cell_type": "code",
   "execution_count": 9,
   "id": "e52c79f8",
   "metadata": {},
   "outputs": [
    {
     "name": "stdout",
     "output_type": "stream",
     "text": [
      "root\n",
      " |-- Symbol: string (nullable = true)\n",
      " |-- Chg: float (nullable = true)\n",
      " |-- Market Cap: double (nullable = true)\n",
      " |-- Industry: string (nullable = true)\n",
      " |-- Chi_Industry: string (nullable = true)\n",
      "\n"
     ]
    }
   ],
   "source": [
    "filtered_df_transformed.printSchema()"
   ]
  },
  {
   "cell_type": "code",
   "execution_count": 10,
   "id": "6c55b35c",
   "metadata": {},
   "outputs": [
    {
     "name": "stdout",
     "output_type": "stream",
     "text": [
      "+--------------------+------------------+--------------------------+-----------+-----------------+----------+\n",
      "|            Industry|      Chi_Industry|Total Industry Change Rate|Total Stock|Best Contribution|Best Stock|\n",
      "+--------------------+------------------+--------------------------+-----------+-----------------+----------+\n",
      "|             Uranium|                鈾|                    0.1789|         10|             0.25|       UEC|\n",
      "|Electrical Equipm...|    電氣設備及零件|                    0.0441|         29|           0.4259|      LTBR|\n",
      "|Other Precious Me...|其他工業金屬與採礦|                    0.0405|         13|           0.1053|      ITRG|\n",
      "|              Copper|                銅|                    0.0319|          7|           0.0389|       HBM|\n",
      "|        Broadcasting|              廣播|                     0.027|         10|            0.214|     GTN.A|\n",
      "|                Gold|              黃金|                    0.0256|         42|           0.0861|       IDR|\n",
      "|Real Estate - Dev...|        房地產開發|                    0.0253|          9|           0.1886|       LPA|\n",
      "|               Solar|            太陽能|                    0.0186|         11|           0.1178|      SEDG|\n",
      "|Other Industrial ...|其他工業金屬與採礦|                    0.0175|         33|           0.1145|      USGO|\n",
      "| Oil & Gas Midstream|    石油天然氣中游|                    0.0169|         49|            0.133|      BROG|\n",
      "|Utilities - Indep...|    獨立電力生產商|                    0.0157|          6|           0.0223|       TAC|\n",
      "|Real Estate Services|        房地產服務|                    0.0151|         32|           0.3551|      DOUG|\n",
      "|Utilities - Regul...|        受監管電力|                    0.0144|         42|           0.2304|      OKLO|\n",
      "|Utilities - Diver...|    多元化公用事業|                    0.0137|          9|           0.0374|       AES|\n",
      "|  Oil & Gas Drilling|    石油天然氣鑽探|                    0.0123|          9|           0.0332|       RIG|\n",
      "|    Waste Management|          廢物管理|                    0.0123|         10|            0.065|      AMBI|\n",
      "|Medical Distribution|          醫療分銷|                    0.0106|          6|           0.1045|       AHG|\n",
      "|              Silver|                銀|                    0.0102|          5|           0.0517|       DVS|\n",
      "|Utilities - Regul...|      受監管天然氣|                    0.0096|         15|           0.0247|       SWX|\n",
      "|Pollution & Treat...|    污染控制與管理|                    0.0094|          9|           0.0601|      ADUR|\n",
      "+--------------------+------------------+--------------------------+-----------+-----------------+----------+\n",
      "only showing top 20 rows\n",
      "\n"
     ]
    }
   ],
   "source": [
    "filtered_df_transformed.createOrReplaceTempView(\"TRANSFORMED_STOCK_DATA\")\n",
    "avg_industry_with_best_contribution_df = spark.sql(\"\"\"SELECT T1.Industry, T1.Chi_Industry, T1.`Total Industry Change Rate`, T1.`Total Stock`, T1.`Best Contribution`, T2.Symbol AS `Best Stock` FROM (SELECT Industry, Chi_Industry, ROUND(AVG(Chg),4) AS `Total Industry Change Rate`, COUNT(Industry) AS `Total Stock`, MAX(Chg) AS `Best Contribution` FROM TRANSFORMED_STOCK_DATA GROUP BY Industry, Chi_Industry) T1 INNER JOIN TRANSFORMED_STOCK_DATA T2 ON T1.Industry = T2.Industry and T1.`Best Contribution` = T2.Chg ORDER BY T1.`Total Industry Change Rate` DESC\"\"\")\n",
    "avg_industry_with_best_contribution_df.show()"
   ]
  }
 ],
 "metadata": {
  "kernelspec": {
   "display_name": "Python 3 (ipykernel)",
   "language": "python",
   "name": "python3"
  },
  "language_info": {
   "codemirror_mode": {
    "name": "ipython",
    "version": 3
   },
   "file_extension": ".py",
   "mimetype": "text/x-python",
   "name": "python",
   "nbconvert_exporter": "python",
   "pygments_lexer": "ipython3",
   "version": "3.8.18"
  }
 },
 "nbformat": 4,
 "nbformat_minor": 5
}
