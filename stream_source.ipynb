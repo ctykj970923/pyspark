{
 "cells": [
  {
   "cell_type": "code",
   "execution_count": null,
   "id": "d619220a",
   "metadata": {},
   "outputs": [],
   "source": [
    "import yfinance as yf\n",
    "import pandas as pd\n",
    "import time\n",
    "import findspark\n",
    "import os"
   ]
  },
  {
   "cell_type": "code",
   "execution_count": null,
   "id": "941664eb",
   "metadata": {},
   "outputs": [],
   "source": [
    "findspark.init()"
   ]
  },
  {
   "cell_type": "code",
   "execution_count": null,
   "id": "db5e50a7",
   "metadata": {},
   "outputs": [],
   "source": [
    "from pyspark.sql import SparkSession"
   ]
  },
  {
   "cell_type": "code",
   "execution_count": null,
   "id": "caed76d3",
   "metadata": {},
   "outputs": [],
   "source": [
    "spark = SparkSession.builder \\\n",
    "    .appName(\"StockData\") \\\n",
    "    .getOrCreate()"
   ]
  },
  {
   "cell_type": "code",
   "execution_count": null,
   "id": "77344f1b",
   "metadata": {},
   "outputs": [],
   "source": [
    "stock_symbol = 'NVDA'\n",
    "stock = yf.Ticker(stock_symbol)\n",
    "data = stock.history(period='1d', interval='1m').iloc[-2]\n",
    "columns = [\"Metric\", \"Value\"]\n",
    "df = spark.createDataFrame(data.reset_index(),columns)\n",
    "df.show()"
   ]
  },
  {
   "cell_type": "code",
   "execution_count": null,
   "id": "7119fc5e",
   "metadata": {},
   "outputs": [],
   "source": [
    "stock_symbol = 'NVDA'  # Change to your desired stock symbol\n",
    "root_path = os.getcwd()\n",
    "hdfs_path = \"hdfs://localhost:9000/project/stream/\"\n",
    "    \n",
    "for i in range(2):  \n",
    "    \n",
    "    stock = yf.Ticker(stock_symbol)\n",
    "    data = stock.history(period='1d', interval='1m').iloc[-2]\n",
    "    columns = [\"Metric\", \"Value\"]\n",
    "    df = spark.createDataFrame(data.reset_index(),columns)\n",
    "    df.show()\n",
    "    \n",
    "    current_time = pd.Timestamp.now()\n",
    "    timestamp_str = current_time.strftime('%Y%m%d%H%M%S')\n",
    "    print(timestamp_str)\n",
    "    \n",
    "    if df.count() > 0:\n",
    "        df.write.mode(\"overwrite\").parquet(os.path.join(hdfs_path, f\"{timestamp_str}.parquet\"))\n",
    "    else:\n",
    "        print(\"DataFrame is empty, skipping write.\")\n",
    "    \n",
    "    time.sleep(60)\n",
    "\n",
    "spark.stop()"
   ]
  },
  {
   "cell_type": "code",
   "execution_count": null,
   "id": "722938fd",
   "metadata": {},
   "outputs": [],
   "source": [
    "parquet_file_path = os.path.join(output_folder,'20250527231100.parquet')  # Adjust the path as needed\n",
    "\n",
    "# Read the Parquet file into a DataFrame\n",
    "df = spark.read.parquet(parquet_file_path)\n",
    "\n",
    "# Show the DataFrame\n",
    "df.show()\n",
    "\n",
    "# Stop the Spark session\n",
    "spark.stop()"
   ]
  }
 ],
 "metadata": {
  "kernelspec": {
   "display_name": "Python 3 (ipykernel)",
   "language": "python",
   "name": "python3"
  },
  "language_info": {
   "codemirror_mode": {
    "name": "ipython",
    "version": 3
   },
   "file_extension": ".py",
   "mimetype": "text/x-python",
   "name": "python",
   "nbconvert_exporter": "python",
   "pygments_lexer": "ipython3",
   "version": "3.8.18"
  }
 },
 "nbformat": 4,
 "nbformat_minor": 5
}
