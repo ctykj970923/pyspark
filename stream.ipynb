{
 "cells": [
  {
   "cell_type": "code",
   "execution_count": null,
   "id": "9dadd9c6",
   "metadata": {},
   "outputs": [],
   "source": [
    "import yfinance as yf\n",
    "import pandas as pd\n",
    "import time\n",
    "import findspark\n",
    "import os"
   ]
  },
  {
   "cell_type": "code",
   "execution_count": null,
   "id": "4aa41a4b",
   "metadata": {},
   "outputs": [],
   "source": [
    "findspark.init()"
   ]
  },
  {
   "cell_type": "code",
   "execution_count": null,
   "id": "8b4b66c5",
   "metadata": {},
   "outputs": [],
   "source": [
    "from pyspark.sql import SparkSession\n",
    "\n",
    "# Create a Spark session\n",
    "spark = SparkSession.builder \\\n",
    "    .appName(\"AutoLoader\") \\\n",
    "    .getOrCreate()"
   ]
  },
  {
   "cell_type": "code",
   "execution_count": null,
   "id": "4a687458",
   "metadata": {},
   "outputs": [],
   "source": [
    "print(spark.version)"
   ]
  },
  {
   "cell_type": "code",
   "execution_count": null,
   "id": "30fc3624",
   "metadata": {},
   "outputs": [],
   "source": [
    "hdfs_path = \"hdfs://localhost:9000/project/stream/\"\n",
    "static_parquet_file = os.path.join(hdfs_path,\"20250529225328.parquet\")\n",
    "print(static_parquet_file)\n",
    "static_df = spark.read.parquet(static_parquet_file)\n",
    "static_df.printSchema()\n",
    "static_df.show()\n",
    "schema = static_df.schema"
   ]
  },
  {
   "cell_type": "code",
   "execution_count": null,
   "id": "516142f0",
   "metadata": {},
   "outputs": [],
   "source": [
    "# parquet_file_path = os.path.join(os.getcwd(),\"real time stock data\")\n",
    "hdfs_path = \"hdfs://localhost:9000/project/stream/\"\n",
    "checkpoint_path = \"hdfs://localhost:9000/project/checkpoint/\"\n",
    "destination_path = \"hdfs://localhost:9000/project/output/\"\n",
    "df = spark.readStream \\\n",
    "    .schema(schema) \\\n",
    "    .format(\"parquet\") \\\n",
    "    .load(hdfs_path)\n",
    "\n",
    "query = df.writeStream \\\n",
    "    .outputMode(\"append\") \\\n",
    "    .format(\"parquet\") \\\n",
    "    .option(\"path\", destination_path) \\\n",
    "    .option(\"checkpointLocation\", checkpoint_path) \\\n",
    "    .start()\n",
    "\n",
    "query.awaitTermination()"
   ]
  },
  {
   "cell_type": "code",
   "execution_count": null,
   "id": "6a88c49f",
   "metadata": {},
   "outputs": [],
   "source": []
  }
 ],
 "metadata": {
  "kernelspec": {
   "display_name": "Python 3 (ipykernel)",
   "language": "python",
   "name": "python3"
  },
  "language_info": {
   "codemirror_mode": {
    "name": "ipython",
    "version": 3
   },
   "file_extension": ".py",
   "mimetype": "text/x-python",
   "name": "python",
   "nbconvert_exporter": "python",
   "pygments_lexer": "ipython3",
   "version": "3.8.18"
  }
 },
 "nbformat": 4,
 "nbformat_minor": 5
}
